{
 "cells": [
  {
   "cell_type": "markdown",
   "id": "be2a8c66",
   "metadata": {},
   "source": [
    "# Plagirism Detector using Counting Bloom Filter "
   ]
  },
  {
   "cell_type": "markdown",
   "id": "629ecccf",
   "metadata": {},
   "source": [
    "## Overview "
   ]
  },
  {
   "cell_type": "markdown",
   "id": "1ffaeae3",
   "metadata": {},
   "source": [
    "Have you ever been to a library and seen the librarian looking for a book? They check their computer, then walk over to the shelves, scan the spines of the books, and repeat the process until they find the one they're looking for. This process can be time-consuming and frustrating, especially if the book isn't there. You wonder if there could be a better way to organize the books so that it becomes easier to check for their availability. One way to do this is to use a list where each book is added as an element. However, this approach becomes inefficient as the number of books increases. Imagine if the library has a million books, the list will become too long and searching for a particular book will take a lot of time.As we have discussed in previous chapters, the time complexity of searching for an item in the list takes O(n), which is far from efficient.\n",
    "So what can we do to be able to easily check if the book is there or not? In a more efficient way. That's where hash tables come in. A hash table is like a smart list that can quickly find a book based on its title or author's name. Instead of adding books in order, each book is assigned a unique number (hash) based on its title or author's name, and the number is used to store the book in a particular location in the hash table.\n",
    "For example, suppose you want to search for a book called \"Pride and Prejudice\" by Jane Austen. The hash function will convert the book's title into a number, say 219, and store the book in the location corresponding to that number in the hash table. When you search for the book, the hash function will convert the title into the same number (219) and quickly look up the location in the hash table. Making the process much more efficient as searching now only takes O(1) time much better than O(n). \n",
    "And to implement this and make your process more efficient both in terms of time and space complexity we have a data structure called Bloom Filters a smart subset of a hash table that can quickly determine if a book is in the library or not using the hash value. \n"
   ]
  },
  {
   "cell_type": "markdown",
   "id": "964c0cbf",
   "metadata": {},
   "source": [
    "## Bloom Filter "
   ]
  },
  {
   "cell_type": "markdown",
   "id": "5597b3ef",
   "metadata": {},
   "source": [
    " \n",
    "So what exactly are bloom filters?\n",
    "\n",
    "A Bloom filter is a probabilistic data structure that is used to test and see whether an element is in a set or not. It is a space-efficient data structure. \n",
    "\n",
    "\n",
    "However, with this efficient data structure also comes a drawback, as mentioned its definition bloom filters are probabilistic in nature which means that there might be chances of getting false positive results which means that something might be in the set but it will be shown as if it is not. But, on a good note they would never give false negatives which means they would never say something is in the set when it is not. \n",
    "\n",
    "Working of a bloom filter \n",
    "So to begin with, first we have all bits empty in a bloom filter so everything is set to 0 \n",
    "\n",
    "0 \n",
    "0 \n",
    "0\n",
    "0 \n",
    "0 \n",
    "0\n",
    "\n",
    "\n",
    "Now, let us assume we need to insert the books into a certain index how would we do that?\n",
    "First, We woud decide on the number of hash functions to calculate and the “hash function” itself. \n",
    "Once we have decided on that, we add an item to that bit. \n",
    "Let us just assume that we use 2 hash functions h1 and h2 and we need to add a book called “Hamlet”\n",
    "So h1(hamlet)%6 = 3  and h1(hamlet)%6  = 4 \n",
    "\n",
    "So the new memory will look like this \n",
    "0 \n",
    "0 \n",
    "0\n",
    "1\n",
    "1\n",
    "0\n",
    "\n",
    "\n",
    "And similarly, we can add other things,\n",
    "\n",
    "And when we are searching for the book we will reverse our process, will calculate the hash value using h1 and h2 and check if there is a 1 or 0 at that place \n",
    "If 1 then yes probably present, because of FPR, else 0 means does not exist. \n",
    "\n",
    "But what about deleting?\n",
    "Unfortunately, we cannot delete an element in a bloom filter, and this is where the Counting Bloom Filter comes in. \n",
    "\n",
    "**Counting Bloom Filters**:\n",
    "\n",
    "A Counting Bloom filter can be seen as an extended version of a Bloom filter in a more generalized form. It is implemented with a counter, so every time there is a new element added or simply the slot is hashed by the hash function, we increment it by 1. And, in addition to insertions and lookups as in bloom filters it also, helps in deletions. \n",
    "\n"
   ]
  },
  {
   "cell_type": "markdown",
   "id": "5cdbb1a2",
   "metadata": {},
   "source": [
    "## Hashing Technique"
   ]
  },
  {
   "cell_type": "markdown",
   "id": "52b681b0",
   "metadata": {},
   "source": [
    "So as discussed above, hashing is a simple technique,that involves taking a piece of data, such as a string, and running it through a mathematical function called a hash function. The hash function takes the data and produces a unique numerical value that represents it. This value can be used as an index in the bloom filter. However, the choice of hash function also plays an impritnay role. We could easily implement a hash function function like mmh3. However, for the purpose of the assignment we were supposed to make a custom function. \n",
    "So, custom hash function is implemented in CBF class which is based on Horner’s method to calculate the hash value from the string, The method works by iteratively updating a hash value based on the ASCII code of each character in the string, using the formula:\n",
    "\n",
    "                     hash_value = (hash_value * 31 + ord(char)) % self.memory_size\n",
    "\n",
    "\n",
    "\n",
    "where ord(char) is the ASCII code of the character, returns ASCII value for any character which is an integer from 0 to 255. And 31 is an arbitrary constant chosen for its good distribution properties. so we are calculating that value for every character in input \n",
    "then we are adding this value to previous hash value and multiplying with 31 and at last we are taking mod of above value with memory_size, so that it will return value less than memory_size every time. \n",
    "\n",
    "Also, to avoid collision It uses multiple hash values to generate different indices in the bit array, and the number of hash functions is calculated using the formula \n",
    "num_hashfn = round(memory_size * log(2) / num_item)\n",
    "And The formula is derived from the probability of a bit being set after a certain number of insertions. (Wikepedia, 2023)\n",
    "p = (1 - (1 -1m)kn)k\n",
    "\n",
    "Solving for k, we get:\n",
    "k = mn* log(2)\n",
    "\n",
    "Substituting this value of k into the original formula, we get:\n",
    "p = (1 - e-knm)k    \n",
    "\n",
    "Solving for k, we get:\n",
    "\n",
    "k = -log2(p)log2 (1-e(-n/m))\n",
    "Since we want to calculate the number of hash functions required to achieve a certain false-positive rate (fpr), we can substitute fpr for p in the formula:\n",
    "\n",
    "\n",
    "\n",
    "This can be simplified as:\n",
    "k = m * log_2(1/fpr) / n\n",
    "\n",
    "\n",
    "which is equivalent to:\n",
    "k = round((m * log(2)) n)\n"
   ]
  },
  {
   "cell_type": "markdown",
   "id": "00352c41",
   "metadata": {},
   "source": [
    "## Main Operations in CBF "
   ]
  },
  {
   "cell_type": "markdown",
   "id": "a7456862",
   "metadata": {},
   "source": [
    "\n",
    "\n",
    "**Insertion**\n",
    "\n",
    "Insertion operation is used to add an element to the CBF. As seen in Bloom filters, we convert the string into a hash value using the hash function, and using that which is divided by the size of the array (number of spaces for total elements) gives us the exact index where the element should be. After this we would increment the counter by 1. And all of this operations - conversion of the string to the hash value, finding the index value and incrementing the counter takes a coinstant time regardless of the size of the data being inserted, so the time complexity is O(1).\n",
    "\n",
    "\n",
    "**Searching** \n",
    "\n",
    "Further to check if the element is in the set or not, we will follow the same process as insertion, first use hash functions to find hash value and then find the index and then it will go to every slot to check the value of the counter. If the slots have a counter value > 0, then it means that the item probably exist in the set we are saying this because of the probability of false positives. However, if the counter value = 0, then it means that the item does not exist in the set. Again, all of the processes, can be done in a constant time regardless of the data size hence it is O(1).\n",
    "\n",
    "\n",
    "**Deleting** \n",
    "\n",
    "Lastly, to delete or remove an element from the set using counting bloom filter, we start by following the same approach to get the index value of the string to be deleted, once it is found using the hash function, then we decrement the counter by 1. And here again, it takes the same time as inserting or searching which is O(1) since it also involves computing the hash values of the element and accessing the corresponding counters in the filter.\n",
    "\n"
   ]
  },
  {
   "cell_type": "markdown",
   "id": "c2fa7802",
   "metadata": {},
   "source": [
    "# Implementing CBFs in Python "
   ]
  },
  {
   "cell_type": "code",
   "execution_count": null,
   "id": "3ebf961f",
   "metadata": {},
   "outputs": [],
   "source": []
  },
  {
   "cell_type": "code",
   "execution_count": 1,
   "id": "cc7c5f72",
   "metadata": {},
   "outputs": [],
   "source": [
    "#importing libraries \n",
    "import math\n",
    "import string\n",
    "import random\n",
    "import matplotlib.pyplot as plt"
   ]
  },
  {
   "cell_type": "code",
   "execution_count": 2,
   "id": "e760309b",
   "metadata": {},
   "outputs": [],
   "source": [
    "class CountingBloomFilter():\n",
    "    \"\"\"\n",
    "    Implement the counting bloom filter which supports:\n",
    "    - search: queries the membership of an element\n",
    "    - insert: inserts a string to the filter\n",
    "    - delete: removes a string from the filter\n",
    "    \"\"\"\n",
    "    def __init__(self, fpr, num_item):\n",
    "        \"\"\"\n",
    "        \n",
    "        Initializes the instances of a CBF.\n",
    "\n",
    "        Parameters:\n",
    "        fpr (float): The desired false-positive rate.\n",
    "        memory_size (int): The size of the filter in bits.\n",
    "        \n",
    "        \"\"\"\n",
    "        self.fpr = fpr\n",
    "        self.num_item = num_item \n",
    "        #memory size is based on a formula mentioned in the report \n",
    "        self.memory_size = - math.floor((self.num_item * math.log(self.fpr))/(math.log(2)**2))\n",
    "        self.num_hashfn = self.calculate_num_hashfn(fpr)\n",
    "        #initializing all the bits as 0 \n",
    "        self.bit_array = [0] * self.memory_size\n",
    "\n",
    "    def calculate_num_hashfn(self, fpr):\n",
    "        \"\"\"\n",
    "        Calculates the number of hash functions required to achieve the\n",
    "        desired false-positive rate.\n",
    "\n",
    "        Parameters:\n",
    "        fpr (float): The desired false-positive rate.\n",
    "\n",
    "        Returns:\n",
    "        int: The number of hash functions required.\n",
    "        \"\"\"\n",
    "        #finding optimal number of hash function using the formula \n",
    "        num_hashfn = int(round(self.memory_size * math.log(2) / self.num_item))\n",
    "        return num_hashfn\n",
    "    \n",
    "    def custom_hash(self, key):\n",
    "        \"\"\"\n",
    "        Custom hash function.\n",
    "\n",
    "        Parameters:\n",
    "        key (str): The key to hash.\n",
    "\n",
    "        Returns:\n",
    "        int: The hash value.\n",
    "        \"\"\"\n",
    "        hash_value = 0\n",
    "        # Loop through each character in the key\n",
    "        for char in key:\n",
    "        # Update the hash value using Horner's method\n",
    "            hash_value = (hash_value * 31 + ord(char)) % self.memory_size\n",
    "        return hash_value\n",
    "\n",
    "\n",
    "    def hash_cbf(self, item):\n",
    "        \"\"\"\n",
    "        Returns the hash values of an item.\n",
    "\n",
    "        Parameters:\n",
    "        item (str): The item to hash.\n",
    "\n",
    "        Returns:\n",
    "        list: A list of hash values.\n",
    "        \"\"\"\n",
    "        hash_values = []\n",
    "        \n",
    "        #going through each hash function to find hash value \n",
    "        for i in range(self.num_hashfn):\n",
    "            seed = i + 1\n",
    "            hash_value = self.custom_hash(str(seed) + item) % self.memory_size\n",
    "            hash_values.append(hash_value)\n",
    "        return hash_values\n",
    "\n",
    "    def search(self, item):\n",
    "        \"\"\"\n",
    "        Queries the membership of an element in the filter.\n",
    "\n",
    "        Parameters:\n",
    "        item (str): The item to search for.\n",
    "\n",
    "        Returns:\n",
    "        bool: tells if the item is there or not\n",
    "        \"\"\"\n",
    "        hash_values = self.hash_cbf(item)\n",
    "        for hash_value in hash_values:\n",
    "            if self.bit_array[hash_value] == 0:\n",
    "                return False\n",
    "        return True\n",
    "\n",
    "    def insert(self, item):\n",
    "        \"\"\"\n",
    "        Inserts an item into the filter.\n",
    "\n",
    "        Parameters:\n",
    "        item (str): The item to insert.\n",
    "        \"\"\"\n",
    "        hash_values = self.hash_cbf(item)\n",
    "        for hash_value in hash_values:\n",
    "            #incrementing the counter value\n",
    "            self.bit_array[hash_value] += 1\n",
    "\n",
    "    def delete(self, item):\n",
    "        \"\"\"\n",
    "        Removes an item from the filter.\n",
    "\n",
    "        Parameters:\n",
    "        item (str): The item to remove.\n",
    "        \"\"\"\n",
    "        hash_values = self.hash_cbf(item)\n",
    "        for hash_value in hash_values:\n",
    "            if self.bit_array[hash_value] > 0:\n",
    "                #decrement the counter value\n",
    "                self.bit_array[hash_value] -= 1\n",
    "            else:\n",
    "                raise ValueError(\"Item does not exist in the filter.\")"
   ]
  },
  {
   "cell_type": "markdown",
   "id": "14d170eb",
   "metadata": {},
   "source": [
    "## Testing "
   ]
  },
  {
   "cell_type": "markdown",
   "id": "8a6fc330",
   "metadata": {},
   "source": [
    "This code creates a CountingBloomFilter with a false positive rate of 1% and can store up to 1000 items. It inserts 500 randomly generated strings into the filter and tests whether they exist in the filter using the search method, which should return True. It then generates another 500 random strings that were not inserted into the filter and tests how many false positives are returned. The code calculates the actual false positive rate and ensures that it is within 1% of the desired false positive rate. Finally, it randomly deletes 100 of the previously inserted strings from the filter using the delete method and tests whether they exist in the filter, which should return False.\n"
   ]
  },
  {
   "cell_type": "code",
   "execution_count": 3,
   "id": "1ecdf2de",
   "metadata": {},
   "outputs": [],
   "source": [
    "import random\n",
    "\n",
    "# initialize the filter with desired false positive rate and number of items\n",
    "cbf = CountingBloomFilter(0.01, 1000)\n",
    "\n",
    "# generate 500 random strings to insert into the filter\n",
    "rand_strings = [\"\".join(random.choices(\"abcdefghijklmnopqrstuvwxyz\", k=random.randint(5, 15))) for _ in range(500)]\n",
    "\n",
    "for string in rand_strings:\n",
    "    cbf.insert(string)\n",
    "\n",
    "    \n",
    "# testing insert and search function\n",
    "for string in rand_strings:\n",
    "    assert cbf.search(string) == True\n",
    "\n",
    "    \n",
    "# generate another 500 random strings to test false positives\n",
    "false_strings = [\"\".join(random.choices(\"abcdefghijklmnopqrstuvwxyz\", k=random.randint(5, 15))) for _ in range(500)]\n",
    "\n",
    "# testing the searching function\n",
    "num_fps = 0\n",
    "for string in false_strings:\n",
    "    if cbf.search(string):\n",
    "        num_fps += 1\n",
    "\n",
    "# calculate the actual fpr\n",
    "actual_fpr = num_fps / len(false_strings)\n",
    "\n",
    "# assert that the actual fpr is within the desired range\n",
    "assert abs(actual_fpr - cbf.fpr) < 0.01\n",
    "\n",
    "\n",
    "strings_to_delete = random.sample(rand_strings, 100)\n",
    "for string in strings_to_delete:\n",
    "    cbf.delete(string)\n",
    "\n",
    "#testing delete function\n",
    "for string in strings_to_delete:\n",
    "    assert cbf.search(string) == False\n"
   ]
  },
  {
   "cell_type": "markdown",
   "id": "413bb498",
   "metadata": {},
   "source": [
    "# 4. Effectiveness Testing of CBF using Shakespere's work"
   ]
  },
  {
   "cell_type": "markdown",
   "id": "c03cfb05",
   "metadata": {},
   "source": [
    "Importing shakespere's work"
   ]
  },
  {
   "cell_type": "code",
   "execution_count": 4,
   "id": "0e716ace",
   "metadata": {},
   "outputs": [],
   "source": [
    "# Import the urllib.request module for downloading Shakespere's data from a URL \n",
    "import urllib.request\n",
    "url = \"https://gist.githubusercontent.com/raquelhr/78f66877813825dc344efefdc684a5d6/raw/361a40e4cd22cb6025e1fb2baca3bf7e166b2ec6/\"\n",
    "\n",
    "#method to download the data from the URL\n",
    "response = urllib.request.urlopen(url)\n",
    "\n",
    "# read the downloaded data as a string, and then decode it \n",
    "data = response.read().decode()\n",
    "\n",
    "# Split the string into a list of words, using whitespace as the delimiter\n",
    "words = data.split()"
   ]
  },
  {
   "cell_type": "markdown",
   "id": "219762bd",
   "metadata": {},
   "source": [
    "### 4(a) How does the memory size scale with FPR?"
   ]
  },
  {
   "cell_type": "code",
   "execution_count": 5,
   "id": "c0bc9bb3",
   "metadata": {},
   "outputs": [
    {
     "data": {
      "image/png": "[encoded data removed]",
      "text/plain": [
       "<Figure size 432x288 with 1 Axes>"
      ]
     },
     "metadata": {
      "needs_background": "light"
     },
     "output_type": "display_data"
    }
   ],
   "source": [
    "# (4a) memory size scales with FPR\n",
    "#storing fpr and memory sizes in a list \n",
    "fprs = [0.01 * i for i in range(1, 100)]\n",
    "memory_sizes = []\n",
    "fpr = 0.01\n",
    "\n",
    "#iterate through varying fpr\n",
    "for fpr in fprs:\n",
    "    cbf = CountingBloomFilter(num_item=len(words), fpr=fpr)\n",
    "    memory_sizes.append(cbf.memory_size)\n",
    "    \n",
    "#plotting graphs\n",
    "plt.plot(fprs,memory_sizes) \n",
    "plt.title('Memory size (scales with FPR)') \n",
    "plt.xlabel('False Positive Rate (fpr)') \n",
    "plt.ylabel('Memory Size')\n",
    "plt.show()\n"
   ]
  },
  {
   "cell_type": "markdown",
   "id": "230e44c5",
   "metadata": {},
   "source": [
    "### 4 (b) How does the memory size scale with the number of items stored for a fixed FPR?"
   ]
  },
  {
   "cell_type": "code",
   "execution_count": 6,
   "id": "65c128b8",
   "metadata": {},
   "outputs": [
    {
     "data": {
      "image/png": "[encoded data removed]",
      "text/plain": [
       "<Figure size 432x288 with 1 Axes>"
      ]
     },
     "metadata": {
      "needs_background": "light"
     },
     "output_type": "display_data"
    }
   ],
   "source": [
    "#4(b) memory size scale with the number of items stored for a fixed FPR\n",
    "\n",
    "# Initialize lists to store number of items and memory size\n",
    "num_item_list = [] \n",
    "memory_size_list = []\n",
    "\n",
    "fpr = 0.01\n",
    "\n",
    "# Iterate with varying number of items\n",
    "for i in range(0, len(words), 100):\n",
    "    counting_bloom_filter = CountingBloomFilter(num_item=i+1, fpr=fpr)\n",
    "    \n",
    "    memory_size_list.append(counting_bloom_filter.memory_size)\n",
    "    num_item_list.append(i+1)\n",
    "\n",
    "# Plot the data\n",
    "plt.plot(num_item_list, memory_size_list)\n",
    "plt.title('Memory size scales with the number of items being stored')\n",
    "plt.xlabel('Number of items')\n",
    "plt.ylabel('Memory size')\n",
    "plt.show()"
   ]
  },
  {
   "cell_type": "markdown",
   "id": "86b5de82",
   "metadata": {},
   "source": []
  },
  {
   "cell_type": "markdown",
   "id": "1e4e8e15",
   "metadata": {},
   "source": [
    "### 4(c) How does the actual FPR scale with the number of hash functions?"
   ]
  },
  {
   "cell_type": "code",
   "execution_count": 252,
   "id": "d7526928",
   "metadata": {
    "scrolled": true
   },
   "outputs": [
    {
     "data": {
      "image/png": "[encoded data removed]",
      "text/plain": [
       "<Figure size 432x288 with 1 Axes>"
      ]
     },
     "metadata": {
      "needs_background": "light"
     },
     "output_type": "display_data"
    }
   ],
   "source": [
    "#4(c) the actual FPR scale with the number of hash functions\n",
    "\n",
    "#making a subclass of CBF \n",
    "class CBF2(CountingBloomFilter):\n",
    "    #changing the parameters \n",
    "    def __init__(self, num_items, num_hashfn):\n",
    "        self.num_items = num_items\n",
    "        self.num_hashfn = num_hashfn\n",
    "        #calculated through the mathematical relatins mentioned in the report\n",
    "        self.memory_size = round((self.num_hashfn / math.log(2)) * self.num_items)\n",
    "        self.fpr = (1 - (math.exp(-self.num_hashfn * self.num_items / self.memory_size)))**self.num_hashfn\n",
    "        self.bit_array = [0] * self.memory_size\n",
    "\n",
    "    def fpr_per_hashfn(self):\n",
    "        num_hashfn = [i for i in range(1, 10)]\n",
    "        fprs = []\n",
    "        for num in num_hashfn:\n",
    "            cbf = CBF2(num_items=len(words), num_hashfn=num)\n",
    "            fprs.append(cbf.fpr)\n",
    "        return (num_hashfn, fprs)\n",
    "\n",
    "cbf = CBF2(num_items=len(words), num_hashfn=3)\n",
    "num_hashfn, fprs = cbf.fpr_per_hashfn()\n",
    "\n",
    "#plot the data \n",
    "plt.plot(num_hashfn, fprs)\n",
    "plt.xlabel('Number of hash functions')\n",
    "plt.ylabel('False positive rate')\n",
    "plt.title('False positive rate vs number of hash functions for a fixed number of items')\n",
    "plt.show()"
   ]
  },
  {
   "cell_type": "markdown",
   "id": "d297c01a",
   "metadata": {},
   "source": [
    "### Importing data and Data Cleaning:\n",
    "\n"
   ]
  },
  {
   "cell_type": "markdown",
   "id": "b487707a",
   "metadata": {},
   "source": [
    "Before we begin checking if the two versions have some similarities and hence are plagiarized we first need to import it, as seen below the data is imported, and then data is cleaned, by removing any lowercase alphabets, numbers or any other redundant characters like !, # etc which might cause problems when running the checker and give inaccurate results.\n"
   ]
  },
  {
   "cell_type": "code",
   "execution_count": 7,
   "id": "379d9329",
   "metadata": {},
   "outputs": [],
   "source": [
    "from requests import get\n",
    "\n",
    "def get_txt_into_list_of_words(url):\n",
    "    '''\n",
    "    Cleans the text data\n",
    "\n",
    "    Parameters: \n",
    "    url : string\n",
    "        The URL for the txt file.\n",
    "\n",
    "    Returns:\n",
    "    data_just_words_lower_case: list\n",
    "        List of \"cleaned-up\" words sorted by the order they appear in the original file.\n",
    "    '''\n",
    "    bad_chars = [';', ',', '.', '?', '!', '_', '[', ']', '(', ')', '*']\n",
    "    data = get(url).text\n",
    "    data = ''.join(c for c in data if c not in bad_chars)\n",
    "    data_without_newlines = ''.join(c if (c not in ['\\n', '\\r', '\\t']) else \" \" for c in data)\n",
    "    data_just_words = [word for word in data_without_newlines.split(\" \") if word != \"\"]\n",
    "    data_just_words_lower_case = [word.lower() for word in data_just_words]\n",
    "    return data_just_words_lower_case\n",
    "\n",
    "url_version_1 = 'https://bit.ly/39MurYb'\n",
    "url_version_2 = 'https://bit.ly/3we1QCp'\n",
    "url_version_3 = 'https://bit.ly/3vUecRn'\n",
    "\n",
    "version_1 = get_txt_into_list_of_words(url_version_1)\n",
    "version_2 = get_txt_into_list_of_words(url_version_2)\n",
    "version_3 = get_txt_into_list_of_words(url_version_3)\n"
   ]
  },
  {
   "cell_type": "markdown",
   "id": "360ad97f",
   "metadata": {},
   "source": [
    "## Plagirism Detector using CBF "
   ]
  },
  {
   "cell_type": "markdown",
   "id": "6e1b7163",
   "metadata": {},
   "source": [
    "\n",
    "After successfully importing and cleaning the data, we will use a CBF to check plagiarism, so we first input two texts for which we need to check plagiarism and define a false positive rate, and calculate the number of items (num_item) through the length of the first text to be able to call CBF class. Then we would insert all bigrams which are 2 consecutive characters of the text. Here we are assuming that two texts are more likely to be similar if they share many consecutive pairs of characters. into the CBF using its insert operation. And then for each bigram in the second test, check if it is in the CBF using the search operation, and if yes there is, then we count it as a match and store it in a list. And then finally to see how similar the 2 texts are we calculate the similarity rate between the texts which is given by the formula, number of matches/ total no of bigrams in both texts - duplicates.\n",
    "\n",
    "Note: Even though we clean the data and put it in form of lists, as seen in code above, derived from assignment instructions. The code below takes the strings rather than the list of words, because of the approach used above. \n",
    "\n",
    "**Strengths:**\n",
    "Space Complexity: One of the major strengths of using CBFs is its efficiency, the memory size remains the same throughout because we initialize the parameters like fpr and num_items from the beginning so even if we add more items it would not effect the space which would stll be O(1).\n",
    "Time complexity: Same goes for time complexity, Inserting ,Searchng or deleting all these main operations take the time of O(1) which is constant so even if the text is really big the operations would be done super quick.\n",
    "And on the other hand Comparing text word by word requires storing and comparing a large number of words, which can be memory-intensive and time-consuming, especially for large texts or datasets. Using hashing can reduce the memory footprint and improve the performance.\n",
    "\n",
    "**Limitations:**\n",
    "False positives: CBFs have a non-zero probability of producing false positives, meaning that some non-plagiarized texts may be incorrectly identified as plagiarized. The probability of false positives increases as the size of the filter and the number of items inserted grows. While a fixed threshold similarity rate may not account for the acceptable level of false positives for a given application, it also introduces the risk of collisions and false positives, particularly if the hash function is not carefully designed or the hash values are not properly distributed.\n",
    "\n",
    "Text length: The length of texts can impact the performance of CBF-based plagiarism detection. For very short texts, the number of common bigrams may be small, resulting in a low similarity rate even for plagiarized texts. Conversely, for very long texts, the number of bigrams may be too large, leading to a high false positive rate. A fixed threshold similarity rate may not consider the length of the texts.\n",
    "\n"
   ]
  },
  {
   "cell_type": "code",
   "execution_count": 10,
   "id": "0f522a8e",
   "metadata": {},
   "outputs": [],
   "source": [
    "#plagirism checker using CBF \n",
    "\n",
    "def plagiarism_checker(txt1, txt2, fpr=0.01):\n",
    "    \"\"\"\n",
    "    Checks if two texts are similar using a CBF.\n",
    "\n",
    "    Parameters:\n",
    "    text1 (str): The first text to check.\n",
    "    text2 (str): The second text to check.\n",
    "    fpr (float): The desired false positive rate.\n",
    "\n",
    "    Returns:\n",
    "    boolean: True or False \n",
    "    similarity_rate(int): \n",
    "    \"\"\"\n",
    "    \n",
    "    matches = 0\n",
    "    #initializing a list that will keep track of all matches \n",
    "    numb = []\n",
    "    n = len(txt1)\n",
    "    m = len(txt2)\n",
    "    cbf = CountingBloomFilter(fpr, n)\n",
    "\n",
    "    # Insert the first text into the Bloom filter\n",
    "    for i in range(n):\n",
    "        cbf.insert(txt1[i:i+2])\n",
    "\n",
    "    # Check if any of the bigrams in the second text are in the BF\n",
    "    for i in range(m):\n",
    "        if cbf.search(txt2[i:i+2]) is True: \n",
    "            matches +=1 \n",
    "            numb.append(i)\n",
    "            \n",
    "    similarity_rate = matches/(n+m-matches) \n",
    "    \n",
    "    #checking for plagirism \n",
    "    if similarity_rate >0.5:\n",
    "        return True, similarity_rate\n",
    "    else:\n",
    "        return False, similarity_rate"
   ]
  },
  {
   "cell_type": "code",
   "execution_count": 11,
   "id": "e916a4cc",
   "metadata": {},
   "outputs": [
    {
     "name": "stdout",
     "output_type": "stream",
     "text": [
      "(True, 0.9999556963427331)\n",
      "(True, 1.0130675526024364)\n",
      "(True, 1.0130675526024364)\n"
     ]
    }
   ],
   "source": [
    "print(plagiarism_checker(' '.join(version_1), ' '.join(version_2), fpr=0.01))\n",
    "print(plagiarism_checker(' '.join(version_1), ' '.join(version_3), fpr=0.01))\n",
    "print(plagiarism_checker(' '.join(version_2), ' '.join(version_3), fpr=0.01))"
   ]
  },
  {
   "cell_type": "markdown",
   "id": "258b49bd",
   "metadata": {},
   "source": [
    "## Naive Approach "
   ]
  },
  {
   "cell_type": "markdown",
   "id": "9ddbbe3e",
   "metadata": {},
   "source": [
    "\n",
    "Another algorithmic strategy for checking plagiarism between texts is to use a naive approach. This involves comparing the pattern of a string in one text to the other pattern to determine if there are any similarities. Based on these similarities, the algorithm calculates a similarity score.\n",
    "To begin, the algorithm compares every possible substring in the first text to the other. If a substring matches the pattern, the number of matches is incremented. The similarity score is then computed by dividing the number of matches by the total number of possible substrings of length m in the text string and the total space taken by the algorithm would be O(m) where m would be the length of the string  \n",
    "\n",
    "**Strengths**\n",
    "Simple and easy: The algorithm is super simple and easy to understand and implement, you just need to create a nested loop and compare the substrings of the text with the pattern. On the other hand, CBF’s require more operations to implement the algorithm however the time taken by those operations is super quick.\n",
    "\n",
    "\n",
    "\n",
    "**Limitations**\n",
    "Time Complexity: The algorithm is highly inefficient due to its time complexity, which is O(m*n), where m and n are the lengths of the texts. The algorithm works by comparing each substring of length m in the text to the pattern, character by character. This requires O(m) operations for each substring, and there are (n - m + 1) substrings in the text that need to be compared. Therefore, the total number of operations required is (n - m + 1) * m, which is O(m * n). This is super inefficient compared to CBF's, which only takes O(1).\n",
    "\n",
    "Large Datasets: As discussed earlier, the time complexity of this algorithm can become very large, making it impractical for large datasets. This can be seen in the implementation below, which gives incorrect results and falsely claims that there is no plagiarism. This is due to the sheer size of the data. However, the algorithm performs better with smaller datasets.\n"
   ]
  },
  {
   "cell_type": "code",
   "execution_count": 12,
   "id": "867c4c2b",
   "metadata": {},
   "outputs": [
    {
     "name": "stdout",
     "output_type": "stream",
     "text": [
      "(False, 0.0)\n",
      "(False, -0.0)\n",
      "(False, -0.0)\n"
     ]
    }
   ],
   "source": [
    "def approach2(txt, pat):\n",
    "    \n",
    "    \"\"\"\n",
    "    Implementing naive approach \n",
    "    Parameters:\n",
    "    text (str): The text string to compare.\n",
    "    pattern (str): The pattern string to compare against.\n",
    "    \n",
    "    Returns:\n",
    "    bool: True or false \n",
    "    similarity_rate(int): rate for how similar are the 2 texts \n",
    "    \"\"\"\n",
    "    \n",
    "    n = len(txt)\n",
    "    m = len(pat)\n",
    "    matches = 0\n",
    "    \n",
    "    # Iterate over the range of (n - m + 1) indices of the \"txt\" string \n",
    "    for i in range(n - m + 1):\n",
    "        j = 0\n",
    "        while j < m and txt[i + j] == pat[j]:\n",
    "            j += 1\n",
    "        if j == m:\n",
    "            matches += 1\n",
    "            \n",
    "    # Calculate the similarity rate\n",
    "    similarity_rate =  matches / (n - m + 1)\n",
    "        \n",
    "    if similarity_rate > 0.5:\n",
    "        return True, similarity_rate\n",
    "    else:\n",
    "        return False,similarity_rate\n",
    "\n",
    "\n",
    "print(approach2(' '.join(version_1), ' '.join(version_2)))\n",
    "print(approach2(' '.join(version_1), ' '.join(version_3)))\n",
    "print(approach2(' '.join(version_2), ' '.join(version_3)))"
   ]
  },
  {
   "cell_type": "markdown",
   "id": "31ca685c",
   "metadata": {},
   "source": [
    "## Comparing Time complexities"
   ]
  },
  {
   "cell_type": "code",
   "execution_count": 13,
   "id": "ea5e0ca1",
   "metadata": {},
   "outputs": [
    {
     "data": {
      "image/png": "[encoded data removed]",
      "text/plain": [
       "<Figure size 432x288 with 1 Axes>"
      ]
     },
     "metadata": {
      "needs_background": "light"
     },
     "output_type": "display_data"
    }
   ],
   "source": [
    "import timeit\n",
    "\n",
    "# input sizes\n",
    "sizes = range(100, 10000, 500) \n",
    "\n",
    "#for CBF\n",
    "# Define a list to store the time taken for each input size\n",
    "times = []\n",
    "\n",
    "# Test the function for each input size and store the time taken\n",
    "for size in sizes:\n",
    "    text = \"A\" * size\n",
    "    pattern = \"A\" * (size // 2)\n",
    "    t = timeit.timeit(lambda: approach2(text, pattern), number=10)\n",
    "    times.append(t)\n",
    "    \n",
    "#For naive approach \n",
    "times_cbf = []\n",
    "\n",
    "# Test the function for each input size and store the time taken\n",
    "for size in sizes:\n",
    "    text = \"A\" * size\n",
    "    pattern = \"A\" * (size // 2)\n",
    "    t = timeit.timeit(lambda: plagiarism_checker(text, pattern), number=10)\n",
    "    times_cbf.append(t)\n",
    "\n",
    "    \n",
    "# Plot the results\n",
    "#NAIVE time log\n",
    "plt.plot(sizes, times, label=\"naive\") \n",
    "#CBF time log\n",
    "plt.plot(sizes, times_cbf, label=\"cbf\") \n",
    "plt.xlabel('Input size')\n",
    "plt.ylabel('Time (s)')\n",
    "plt.title('Naive vs CBF time complexity')\n",
    "plt.legend()\n",
    "\n",
    "plt.show()"
   ]
  },
  {
   "cell_type": "markdown",
   "id": "7fbbaf90",
   "metadata": {},
   "source": [
    "As seen in the graph above, with the increase in the number of items, the time required for the plagiarism detection increases as well for the naive approach method. On the other hand, the detecting plagiarism using CBF, the time remains constant, with increase in input size which is in line with our theoretical time complexity as we have discussed above, because CBF’s all operations, have the time complexity of O(1) making it super efficient with large tasks so and for naive approach it increases because time complexity is O(m*n). In conclusion, while the naive approach may seem simple and easy to implement, it quickly becomes inefficient as the number of items increases. On the other hand, the CBF approach offers a constant time complexity and is much more scalable for large datasets. Therefore, using CBF is a better approach for plagiarism checking, especially when dealing with large amounts of data.\n"
   ]
  },
  {
   "cell_type": "code",
   "execution_count": null,
   "id": "9b58d996",
   "metadata": {},
   "outputs": [],
   "source": []
  }
 ],
 "metadata": {
  "kernelspec": {
   "display_name": "Python 3",
   "language": "python",
   "name": "python3"
  },
  "language_info": {
   "codemirror_mode": {
    "name": "ipython",
    "version": 3
   },
   "file_extension": ".py",
   "mimetype": "text/x-python",
   "name": "python",
   "nbconvert_exporter": "python",
   "pygments_lexer": "ipython3",
   "version": "3.8.8"
  }
 },
 "nbformat": 4,
 "nbformat_minor": 5
}
